{
 "cells": [
  {
   "cell_type": "markdown",
   "id": "c1c2900e-707d-48c0-b175-bf7720fb9d11",
   "metadata": {},
   "source": [
    "# This is a markdown cell"
   ]
  },
  {
   "cell_type": "code",
   "execution_count": 1,
   "id": "31989f2a-ad64-4ac1-8876-d4e301c293dd",
   "metadata": {},
   "outputs": [
    {
     "name": "stdout",
     "output_type": "stream",
     "text": [
      "This is a code cell\n"
     ]
    }
   ],
   "source": [
    "print(\"This is a code cell\")"
   ]
  },
  {
   "cell_type": "code",
   "execution_count": null,
   "id": "3d8801b9-d6f7-4292-bef3-d8327a8b28cd",
   "metadata": {},
   "outputs": [],
   "source": []
  }
 ],
 "metadata": {
  "kernelspec": {
   "display_name": "Python 3 (ipykernel)",
   "language": "python",
   "name": "python3"
  },
  "language_info": {
   "codemirror_mode": {
    "name": "ipython",
    "version": 3
   },
   "file_extension": ".py",
   "mimetype": "text/x-python",
   "name": "python",
   "nbconvert_exporter": "python",
   "pygments_lexer": "ipython3",
   "version": "3.13.0"
  }
 },
 "nbformat": 4,
 "nbformat_minor": 5
}

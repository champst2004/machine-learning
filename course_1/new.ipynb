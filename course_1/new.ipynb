{
 "cells": [
  {
   "cell_type": "markdown",
   "id": "c1c2900e-707d-48c0-b175-bf7720fb9d11",
   "metadata": {},
   "source": [
    "# This is a markdown cell"
   ]
  },
  {
   "cell_type": "code",
   "execution_count": 1,
   "id": "31989f2a-ad64-4ac1-8876-d4e301c293dd",
   "metadata": {},
   "outputs": [
    {
     "name": "stdout",
     "output_type": "stream",
     "text": [
      "This is a code cell\n"
     ]
    }
   ],
   "source": [
    "print(\"This is a code cell\")"
   ]
  },
  {
   "cell_type": "markdown",
   "id": "138ac838-0702-466b-a8f5-750ff088adf6",
   "metadata": {},
   "source": [
    "#### hehehehehe"
   ]
  },
  {
   "cell_type": "code",
   "execution_count": 2,
   "id": "4ed7a7ca-baf9-46ed-9d32-957543538f7c",
   "metadata": {},
   "outputs": [
    {
     "name": "stdout",
     "output_type": "stream",
     "text": [
      "3\n"
     ]
    }
   ],
   "source": [
    "a = 3\n",
    "print(a)"
   ]
  },
  {
   "cell_type": "code",
   "execution_count": 5,
   "id": "5add2dcb-e1c1-44e6-8693-0c60c1e445af",
   "metadata": {},
   "outputs": [],
   "source": [
    "import matplotlib.pyplot as plt\n",
    "import numpy as np\n",
    "import pandas as pd"
   ]
  }
 ],
 "metadata": {
  "kernelspec": {
   "display_name": "Python 3",
   "language": "python",
   "name": "python3"
  },
  "language_info": {
   "codemirror_mode": {
    "name": "ipython",
    "version": 3
   },
   "file_extension": ".py",
   "mimetype": "text/x-python",
   "name": "python",
   "nbconvert_exporter": "python",
   "pygments_lexer": "ipython3",
   "version": "3.13.0"
  }
 },
 "nbformat": 4,
 "nbformat_minor": 5
}
